{
 "cells": [
  {
   "cell_type": "code",
   "execution_count": 19,
   "id": "22d6f391",
   "metadata": {},
   "outputs": [],
   "source": [
    "import pandas as pd\n",
    "import re\n",
    "import string\n",
    "from afinn import Afinn\n",
    "from sklearn.feature_extraction.text import TfidfVectorizer\n",
    "from scipy.sparse import hstack\n",
    "from joblib import load\n",
    "import nltk\n",
    "import torch\n",
    "from nltk.tokenize import word_tokenize\n",
    "from transformers import AutoTokenizer, AutoModelForSequenceClassification\n",
    "from vaderSentiment.vaderSentiment import SentimentIntensityAnalyzer\n",
    "\n",
    "custom_slang_words = {'lol', 'rofl', 'brb', 'omg', 'btw', 'afk', 'imho', 'fyi', 'ttyl', \n",
    "                      'gr8', 'luv', 'xoxo', 'bff', 'smh', 'gtg', 'thx', 'ty', 'pls',\n",
    "                      'thnx', 'yw', 'np', 'idc', 'ily', 'wtf', 'wth', 'jk', 'nvm',\n",
    "                      'afaik', 'icymi', 'idk', 'tmi', 'fomo', 'yolo', 'ootd', 'tbh', 'tbt',\n",
    "                      'ftw', 'fml', 'imo', 'irl', 'yass', 'baka', 'omw', 'rn', 'srs', 'imy',\n",
    "                      'nbd', 'tfw', 'tldr', 'rip', 'bruh', 'oomf', 'fwiw',\n",
    "                      'wbu', 'wb', 'lmao', 'lmfao', 'af', 'afaict', 'fud', 'ily2', 'tty', \n",
    "                      'ttys', 'stfu', 'omfg', 'otw', 'gtfo', 'gth', 'lms',\n",
    "                      'lmk', 'smfh', 'bfn', 'ttyt', 'g2g', 'bbs', 'bbiab',\n",
    "                      'cya', 'cys', 'cu', 'cul', 'cul8r', 'iow', 'l8', 'lolz', 'lmao', \n",
    "                      'lmfao', 'l8r', 'rofl', 'roflmao', 'rotfl', 'rotflmao'}\n",
    "\n",
    "# Load the trained model\n",
    "model = load('final_model.joblib')\n",
    "\n",
    "# Load AFINN lexicon for sentiment analysis\n",
    "afinn = Afinn()\n",
    "\n",
    "# Load BERT tokenizer and model for sentiment analysis\n",
    "tokenizer = AutoTokenizer.from_pretrained('nlptown/bert-base-multilingual-uncased-sentiment')\n",
    "model_bert = AutoModelForSequenceClassification.from_pretrained('nlptown/bert-base-multilingual-uncased-sentiment')\n",
    "\n",
    "# Load the TF-IDF vectorizer model\n",
    "tfidf_vectorizer = load('tfidf_vectorizer_model.joblib')\n",
    "\n",
    "def predict_target(sentence):\n",
    "    # Define function to count emoticons\n",
    "    def count_emoticons(text):\n",
    "        emoticons = re.findall(r'(?::|;|=)(?:-)?(?:\\)|\\(|D|P)', text)\n",
    "        return len(emoticons)\n",
    "\n",
    "    # Define function to count punctuations representing emotions\n",
    "    def count_emotion_punctuations(text):\n",
    "        emotion_punctuations = re.findall(r'[!]+', text)\n",
    "        return len(emotion_punctuations)\n",
    "\n",
    "    # Define function to count capital letters\n",
    "    def count_capital_letters(text):\n",
    "        return sum(1 for char in text if char.isupper())\n",
    "\n",
    "    # Define function to count punctuation marks\n",
    "    def count_punctuation(text):\n",
    "        punctuation_count = sum(1 for char in text if char in string.punctuation)\n",
    "        return punctuation_count\n",
    "    \n",
    "    def count_sentiment_words(sentence):\n",
    "        # Tokenize the sentence using NLTK word_tokenize\n",
    "        tokens = word_tokenize(sentence)\n",
    "\n",
    "        # Initialize counters\n",
    "        positive_count = 0\n",
    "        negative_count = 0\n",
    "        neutral_count = 0\n",
    "\n",
    "        # Count positive, negative, and neutral words\n",
    "        for word in tokens:\n",
    "            sentiment_score = afinn.score(word)\n",
    "            if sentiment_score > 0:\n",
    "                positive_count += 1\n",
    "            elif sentiment_score < 0:\n",
    "                negative_count += 1\n",
    "            else:\n",
    "                neutral_count += 1\n",
    "\n",
    "        return positive_count, negative_count, neutral_count\n",
    "\n",
    "    # Tokenize the sentence using NLTK word_tokenize\n",
    "    tokens = word_tokenize(sentence)\n",
    "\n",
    "    # Count the number of words and characters\n",
    "    word_count = len(tokens)\n",
    "    character_count = sum(len(word) for word in tokens)\n",
    "\n",
    "    # Count the number of slang words\n",
    "    slang_count = sum(1 for word in tokens if word.lower() in custom_slang_words)\n",
    "\n",
    "    # Count emoticons, emotion punctuations, capital letters, and punctuation marks\n",
    "    emoticon_count = count_emoticons(sentence)\n",
    "    emotion_punctuation_count = count_emotion_punctuations(sentence)\n",
    "    capital_letter_count = count_capital_letters(sentence)\n",
    "    punctuation_count = count_punctuation(sentence)\n",
    "\n",
    "    # Count positive, negative, and neutral words for sentiment analysis\n",
    "    positive_count, negative_count, neutral_count = count_sentiment_words(sentence)\n",
    "\n",
    "    # Combine all features\n",
    "    features = [word_count, slang_count, character_count, punctuation_count, emoticon_count,\n",
    "                emotion_punctuation_count, capital_letter_count, positive_count, negative_count, neutral_count]\n",
    "    \n",
    "    # Pad the sentence to generate more features\n",
    "    sentence = sentence + \" \" * (2000 - len(sentence.split()))\n",
    "    \n",
    "    # Vectorize the text data\n",
    "    X_text = tfidf_vectorizer.transform([sentence])\n",
    "    # After obtaining TF-IDF vectorized text features, convert them to an array for concatenation\n",
    "    X_text_array = X_text.toarray()\n",
    "\n",
    "    # Combine text features with other features\n",
    "    X_combined = hstack((features, X_text_array))\n",
    "\n",
    "    # Predict the target variable\n",
    "    predicted_target = model.predict(X_combined)\n",
    "\n",
    "    return predicted_target[0]\n",
    "\n",
    "# Function to get sentiment score using VADER\n",
    "def vader_sentiment_score(sentence):\n",
    "    sid_obj = SentimentIntensityAnalyzer()\n",
    "    sentiment_dict = sid_obj.polarity_scores(sentence)\n",
    "    vader_score = sentiment_dict['compound']\n",
    "    converted_score = convert_sentiment_score(vader_score)\n",
    "    return converted_score\n",
    "\n",
    "# Function to convert VADER sentiment score to 1-5 scale\n",
    "def convert_sentiment_score(score):\n",
    "    scaled_score = (((score - (-1)) * (5 - 1)) / (1 - (-1))) + 1\n",
    "    return round(scaled_score)\n",
    "\n",
    "# Function to get sentiment score using BERT\n",
    "def bert_sentiment_score(review):\n",
    "    tokens = tokenizer.encode(review, return_tensors='pt')\n",
    "    result = model_bert(tokens)\n",
    "    return int(torch.argmax(result.logits)) + 1\n",
    "\n",
    "# Function to predict sentiment score based on target and select VADER or BERT\n",
    "def hybrid_sentiment_score(sentence):\n",
    "    predicted_target = predict_target(sentence)\n",
    "    if predicted_target == 1:\n",
    "        return vader_sentiment_score(sentence)\n",
    "    else:\n",
    "        return bert_sentiment_score(sentence)"
   ]
  },
  {
   "cell_type": "code",
   "execution_count": 20,
   "id": "b04113b1",
   "metadata": {},
   "outputs": [
    {
     "name": "stdout",
     "output_type": "stream",
     "text": [
      "Predicted Sentiment: 5\n"
     ]
    }
   ],
   "source": [
    "sentence = \"This is a great product!\"\n",
    "print(\"Predicted Sentiment:\", hybrid_sentiment_score(sentence))"
   ]
  },
  {
   "cell_type": "code",
   "execution_count": 21,
   "id": "4f95c59a",
   "metadata": {},
   "outputs": [
    {
     "name": "stdout",
     "output_type": "stream",
     "text": [
      "VADER score: 3\n",
      "BERT score: 4\n",
      "Hybrid score: 4\n"
     ]
    }
   ],
   "source": [
    "sentence = \"The laptop is lighter than I expected.\"\n",
    "print(f\"VADER score: {vader_sentiment_score(sentence)}\")\n",
    "print(f\"BERT score: {bert_sentiment_score(sentence)}\")\n",
    "print(f\"Hybrid score: {hybrid_sentiment_score(sentence)}\")"
   ]
  },
  {
   "cell_type": "code",
   "execution_count": 22,
   "id": "ba9bcc67",
   "metadata": {},
   "outputs": [
    {
     "name": "stdout",
     "output_type": "stream",
     "text": [
      "VADER score: 5\n",
      "BERT score: 5\n",
      "Hybrid score: 5\n"
     ]
    }
   ],
   "source": [
    "sentence = \"Wow, what a surprise, my package arrived two days late AGAIN. Fantastic service\"\n",
    "print(f\"VADER score: {vader_sentiment_score(sentence)}\")\n",
    "print(f\"BERT score: {bert_sentiment_score(sentence)}\")\n",
    "print(f\"Hybrid score: {hybrid_sentiment_score(sentence)}\")"
   ]
  },
  {
   "cell_type": "code",
   "execution_count": 27,
   "id": "8cf77fd4",
   "metadata": {},
   "outputs": [
    {
     "name": "stdout",
     "output_type": "stream",
     "text": [
      "VADER score: 1\n",
      "BERT score: 5\n",
      "Hybrid score: 5\n"
     ]
    }
   ],
   "source": [
    "sentence = \"the service is 😞😞😞😞😞\"\n",
    "print(f\"VADER score: {vader_sentiment_score(sentence)}\")\n",
    "print(f\"BERT score: {bert_sentiment_score(sentence)}\")\n",
    "print(f\"Hybrid score: {hybrid_sentiment_score(sentence)}\")"
   ]
  },
  {
   "cell_type": "code",
   "execution_count": 26,
   "id": "04e92a18",
   "metadata": {},
   "outputs": [
    {
     "name": "stdout",
     "output_type": "stream",
     "text": [
      "VADER score: 3\n",
      "BERT score: 5\n",
      "Hybrid score: 5\n"
     ]
    }
   ],
   "source": [
    "sentence = \"The book is muy muy interesante\"\n",
    "print(f\"VADER score: {vader_sentiment_score(sentence)}\")\n",
    "print(f\"BERT score: {bert_sentiment_score(sentence)}\")\n",
    "print(f\"Hybrid score: {hybrid_sentiment_score(sentence)}\")"
   ]
  },
  {
   "cell_type": "code",
   "execution_count": null,
   "id": "0b2064b0",
   "metadata": {},
   "outputs": [],
   "source": []
  },
  {
   "cell_type": "code",
   "execution_count": null,
   "id": "5085a9af",
   "metadata": {},
   "outputs": [],
   "source": []
  }
 ],
 "metadata": {
  "kernelspec": {
   "display_name": "Python 3 (ipykernel)",
   "language": "python",
   "name": "python3"
  },
  "language_info": {
   "codemirror_mode": {
    "name": "ipython",
    "version": 3
   },
   "file_extension": ".py",
   "mimetype": "text/x-python",
   "name": "python",
   "nbconvert_exporter": "python",
   "pygments_lexer": "ipython3",
   "version": "3.11.5"
  }
 },
 "nbformat": 4,
 "nbformat_minor": 5
}
